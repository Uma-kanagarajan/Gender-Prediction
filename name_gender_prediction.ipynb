{
  "nbformat": 4,
  "nbformat_minor": 0,
  "metadata": {
    "colab": {
      "name": "name_gender_prediction.ipynb",
      "provenance": [],
      "collapsed_sections": [],
      "authorship_tag": "ABX9TyMRx/VYDeInpvl1gIJn8Yni",
      "include_colab_link": true
    },
    "kernelspec": {
      "name": "python3",
      "display_name": "Python 3"
    },
    "language_info": {
      "name": "python"
    }
  },
  "cells": [
    {
      "cell_type": "markdown",
      "metadata": {
        "id": "view-in-github",
        "colab_type": "text"
      },
      "source": [
        "<a href=\"https://colab.research.google.com/github/Uma-kanagarajan/Gender-Prediction/blob/main/name_gender_prediction.ipynb\" target=\"_parent\"><img src=\"https://colab.research.google.com/assets/colab-badge.svg\" alt=\"Open In Colab\"/></a>"
      ]
    },
    {
      "cell_type": "markdown",
      "source": [
        "### Import necessary libraries"
      ],
      "metadata": {
        "id": "qC2LJ8NQvXxS"
      }
    },
    {
      "cell_type": "code",
      "execution_count": 1,
      "metadata": {
        "id": "WDzXtvhmtAyH"
      },
      "outputs": [],
      "source": [
        "#import all the necessary libraries\n",
        "\n",
        "import os\n",
        "\n",
        "import numpy as np \n",
        "import pandas as pd \n",
        "import matplotlib.pyplot as plt\n",
        "\n",
        "import tensorflow as tf\n",
        "\n",
        "from tensorflow.keras.preprocessing.text import Tokenizer\n",
        "from tensorflow.keras.preprocessing.sequence import pad_sequences\n",
        "from tensorflow.keras.models import Sequential\n",
        "from tensorflow.keras.layers import Dense, Embedding, LSTM, Dropout, Bidirectional\n",
        "from tensorflow.keras.optimizers import Adam\n",
        "from tensorflow.keras.callbacks import EarlyStopping\n",
        "\n",
        "from sklearn import preprocessing\n",
        "from sklearn.model_selection import train_test_split\n",
        "\n",
        "import warnings\n",
        "warnings.filterwarnings(\"ignore\")"
      ]
    },
    {
      "cell_type": "markdown",
      "source": [
        "### Load the dataset"
      ],
      "metadata": {
        "id": "TfOzFKS9vkGk"
      }
    },
    {
      "cell_type": "code",
      "source": [
        "# load and preview the data\n",
        "\n",
        "names_df = pd.read_csv('name_gender.csv')\n",
        "names_df.head()"
      ],
      "metadata": {
        "colab": {
          "base_uri": "https://localhost:8080/",
          "height": 206
        },
        "id": "66jLQBgNtMBF",
        "outputId": "ffec88b5-b568-4d41-e213-21e458a2d8b7"
      },
      "execution_count": 4,
      "outputs": [
        {
          "output_type": "execute_result",
          "data": {
            "text/plain": [
              "        name gender\n",
              "0    Aaban&&      M\n",
              "1     Aabha*      F\n",
              "2      Aabid      M\n",
              "3  Aabriella      F\n",
              "4      Aada_      F"
            ],
            "text/html": [
              "\n",
              "  <div id=\"df-0f8cbb0a-2a31-458e-b7f2-ce04ec6b166e\">\n",
              "    <div class=\"colab-df-container\">\n",
              "      <div>\n",
              "<style scoped>\n",
              "    .dataframe tbody tr th:only-of-type {\n",
              "        vertical-align: middle;\n",
              "    }\n",
              "\n",
              "    .dataframe tbody tr th {\n",
              "        vertical-align: top;\n",
              "    }\n",
              "\n",
              "    .dataframe thead th {\n",
              "        text-align: right;\n",
              "    }\n",
              "</style>\n",
              "<table border=\"1\" class=\"dataframe\">\n",
              "  <thead>\n",
              "    <tr style=\"text-align: right;\">\n",
              "      <th></th>\n",
              "      <th>name</th>\n",
              "      <th>gender</th>\n",
              "    </tr>\n",
              "  </thead>\n",
              "  <tbody>\n",
              "    <tr>\n",
              "      <th>0</th>\n",
              "      <td>Aaban&amp;&amp;</td>\n",
              "      <td>M</td>\n",
              "    </tr>\n",
              "    <tr>\n",
              "      <th>1</th>\n",
              "      <td>Aabha*</td>\n",
              "      <td>F</td>\n",
              "    </tr>\n",
              "    <tr>\n",
              "      <th>2</th>\n",
              "      <td>Aabid</td>\n",
              "      <td>M</td>\n",
              "    </tr>\n",
              "    <tr>\n",
              "      <th>3</th>\n",
              "      <td>Aabriella</td>\n",
              "      <td>F</td>\n",
              "    </tr>\n",
              "    <tr>\n",
              "      <th>4</th>\n",
              "      <td>Aada_</td>\n",
              "      <td>F</td>\n",
              "    </tr>\n",
              "  </tbody>\n",
              "</table>\n",
              "</div>\n",
              "      <button class=\"colab-df-convert\" onclick=\"convertToInteractive('df-0f8cbb0a-2a31-458e-b7f2-ce04ec6b166e')\"\n",
              "              title=\"Convert this dataframe to an interactive table.\"\n",
              "              style=\"display:none;\">\n",
              "        \n",
              "  <svg xmlns=\"http://www.w3.org/2000/svg\" height=\"24px\"viewBox=\"0 0 24 24\"\n",
              "       width=\"24px\">\n",
              "    <path d=\"M0 0h24v24H0V0z\" fill=\"none\"/>\n",
              "    <path d=\"M18.56 5.44l.94 2.06.94-2.06 2.06-.94-2.06-.94-.94-2.06-.94 2.06-2.06.94zm-11 1L8.5 8.5l.94-2.06 2.06-.94-2.06-.94L8.5 2.5l-.94 2.06-2.06.94zm10 10l.94 2.06.94-2.06 2.06-.94-2.06-.94-.94-2.06-.94 2.06-2.06.94z\"/><path d=\"M17.41 7.96l-1.37-1.37c-.4-.4-.92-.59-1.43-.59-.52 0-1.04.2-1.43.59L10.3 9.45l-7.72 7.72c-.78.78-.78 2.05 0 2.83L4 21.41c.39.39.9.59 1.41.59.51 0 1.02-.2 1.41-.59l7.78-7.78 2.81-2.81c.8-.78.8-2.07 0-2.86zM5.41 20L4 18.59l7.72-7.72 1.47 1.35L5.41 20z\"/>\n",
              "  </svg>\n",
              "      </button>\n",
              "      \n",
              "  <style>\n",
              "    .colab-df-container {\n",
              "      display:flex;\n",
              "      flex-wrap:wrap;\n",
              "      gap: 12px;\n",
              "    }\n",
              "\n",
              "    .colab-df-convert {\n",
              "      background-color: #E8F0FE;\n",
              "      border: none;\n",
              "      border-radius: 50%;\n",
              "      cursor: pointer;\n",
              "      display: none;\n",
              "      fill: #1967D2;\n",
              "      height: 32px;\n",
              "      padding: 0 0 0 0;\n",
              "      width: 32px;\n",
              "    }\n",
              "\n",
              "    .colab-df-convert:hover {\n",
              "      background-color: #E2EBFA;\n",
              "      box-shadow: 0px 1px 2px rgba(60, 64, 67, 0.3), 0px 1px 3px 1px rgba(60, 64, 67, 0.15);\n",
              "      fill: #174EA6;\n",
              "    }\n",
              "\n",
              "    [theme=dark] .colab-df-convert {\n",
              "      background-color: #3B4455;\n",
              "      fill: #D2E3FC;\n",
              "    }\n",
              "\n",
              "    [theme=dark] .colab-df-convert:hover {\n",
              "      background-color: #434B5C;\n",
              "      box-shadow: 0px 1px 3px 1px rgba(0, 0, 0, 0.15);\n",
              "      filter: drop-shadow(0px 1px 2px rgba(0, 0, 0, 0.3));\n",
              "      fill: #FFFFFF;\n",
              "    }\n",
              "  </style>\n",
              "\n",
              "      <script>\n",
              "        const buttonEl =\n",
              "          document.querySelector('#df-0f8cbb0a-2a31-458e-b7f2-ce04ec6b166e button.colab-df-convert');\n",
              "        buttonEl.style.display =\n",
              "          google.colab.kernel.accessAllowed ? 'block' : 'none';\n",
              "\n",
              "        async function convertToInteractive(key) {\n",
              "          const element = document.querySelector('#df-0f8cbb0a-2a31-458e-b7f2-ce04ec6b166e');\n",
              "          const dataTable =\n",
              "            await google.colab.kernel.invokeFunction('convertToInteractive',\n",
              "                                                     [key], {});\n",
              "          if (!dataTable) return;\n",
              "\n",
              "          const docLinkHtml = 'Like what you see? Visit the ' +\n",
              "            '<a target=\"_blank\" href=https://colab.research.google.com/notebooks/data_table.ipynb>data table notebook</a>'\n",
              "            + ' to learn more about interactive tables.';\n",
              "          element.innerHTML = '';\n",
              "          dataTable['output_type'] = 'display_data';\n",
              "          await google.colab.output.renderOutput(dataTable, element);\n",
              "          const docLink = document.createElement('div');\n",
              "          docLink.innerHTML = docLinkHtml;\n",
              "          element.appendChild(docLink);\n",
              "        }\n",
              "      </script>\n",
              "    </div>\n",
              "  </div>\n",
              "  "
            ]
          },
          "metadata": {},
          "execution_count": 4
        }
      ]
    },
    {
      "cell_type": "code",
      "source": [
        "print(\"The Shape of the dataset: \", names_df.shape)\n",
        "print(\"The Columns of the dataset are \", names_df.columns)\n",
        "print(\"Any missing values in the dataset \", names_df.isnull().sum())\n",
        "print(\"Unique value counts for the gender variable :\", names_df['gender'].value_counts())"
      ],
      "metadata": {
        "colab": {
          "base_uri": "https://localhost:8080/"
        },
        "id": "8Rf9KH5UteDw",
        "outputId": "1ce3a151-f43a-4ce7-9e98-84be9b5cbf71"
      },
      "execution_count": 5,
      "outputs": [
        {
          "output_type": "stream",
          "name": "stdout",
          "text": [
            "The Shape of the dataset:  (95025, 2)\n",
            "The Columns of the dataset are  Index(['name', 'gender'], dtype='object')\n",
            "Any missing values in the dataset  name      0\n",
            "gender    0\n",
            "dtype: int64\n",
            "Unique value counts for the gender variable : F    60304\n",
            "M    34721\n",
            "Name: gender, dtype: int64\n"
          ]
        }
      ]
    },
    {
      "cell_type": "markdown",
      "source": [
        "### Preprocess the dataset"
      ],
      "metadata": {
        "id": "ZUbBi78Hvyba"
      }
    },
    {
      "cell_type": "code",
      "source": [
        "#define a function to preprocess the data.\n",
        "\n",
        "''' \n",
        "This function takes names as input and converts it into an array using below steps.\n",
        "1. Removes non-alphabetical characters and spaces from the given input name.\n",
        "2. Then tokenize each characters of the name into a vector and converts it into an integer\n",
        "3. Given name length gets changed to a fixed length of 20 with the help of post padded sequence\n",
        "\n",
        "Input Parameter: name(string/list of strings)\n",
        "\n",
        "Function output: name array\n",
        "\n",
        "'''\n",
        "\n",
        "def preprocess_name(names_df):\n",
        "  names_df['name'] = names_df['name'].str.replace('[^a-zA-Z]', '') #remove unncessary characters\n",
        "  names = names_df['name'].values \n",
        "  tokenizer = Tokenizer(num_words=None, oov_token=oov_tok, char_level=True) # Character splitting in tokenizer\n",
        "  tokenizer.fit_on_texts(names)   #Train the corpus\n",
        "  sequences = tokenizer.texts_to_sequences(names)  #convert character to integer\n",
        "  name_length = 20\n",
        "  input_sequences = pad_sequences(sequences, maxlen=name_length, padding='post')  #padding\n",
        "  #input_array = np.asarray(input_sequences) \n",
        "\n",
        "  return input_sequences"
      ],
      "metadata": {
        "id": "w-v5CWE6udk6"
      },
      "execution_count": 6,
      "outputs": []
    },
    {
      "cell_type": "markdown",
      "source": [
        "### Model definition"
      ],
      "metadata": {
        "id": "66z5dkp2v5_h"
      }
    },
    {
      "cell_type": "code",
      "source": [
        "# function for model definition\n",
        "\n",
        "''' \n",
        "\n",
        "This function defines a model with sequential API with the layers such as\n",
        "Embedding, LSTM, Dropout, Dense and a final dense output layer.\n",
        "Optimizer: Adam\n",
        "Loss: Binary crossentropy.\n",
        "\n",
        "Input Parameter: Input dimension, output dimension and input length for embedding layer\n",
        "\n",
        "Function output: Model\n",
        "\n",
        "'''\n",
        "\n",
        "def lstm_model(num_alphabets, embedding_dim, name_length):\n",
        "    model = Sequential([\n",
        "        Embedding(num_alphabets, embedding_dim, input_length=name_length),\n",
        "        #Bidirectional(LSTM(units=32, recurrent_dropout=0.2, dropout=0.2)),\n",
        "        Bidirectional(LSTM(units=32)),\n",
        "        Dropout(0.2),\n",
        "        Dense(units=32, activation='relu'),\n",
        "        Dense(1, activation=\"sigmoid\")\n",
        "    ])\n",
        "\n",
        "    model.compile(loss='binary_crossentropy',\n",
        "                  optimizer=Adam(learning_rate=0.01),\n",
        "                  metrics=['accuracy'])\n",
        "\n",
        "    return model"
      ],
      "metadata": {
        "id": "TPQ__v7WKamx"
      },
      "execution_count": 7,
      "outputs": []
    },
    {
      "cell_type": "markdown",
      "source": [
        "### Model Building"
      ],
      "metadata": {
        "id": "uNvdzAvcv8xc"
      }
    },
    {
      "cell_type": "code",
      "source": [
        "#create oov token value\n",
        "oov_tok = \"<OOV>\"\n",
        "\n",
        "#Step 1: Preprocess the input features(names)\n",
        "X = preprocess_name(names_df)\n",
        "\n",
        "#Step 2: Get labels using Label Encoder\n",
        "le = preprocessing.LabelEncoder()\n",
        "names_df['gender'] = le.fit_transform(names_df['gender'])\n",
        "y = np.asarray(names_df['gender'].values.tolist())\n",
        "\n",
        "#Step 3: Split Training and Test Data\n",
        "X_train, X_test, y_train, y_test = train_test_split(X,\n",
        "                                                    y,\n",
        "                                                    test_size=0.2,\n",
        "                                                    random_state=0\n",
        "                                                    )\n",
        "\n",
        "#Step 4: Instantiate the model\n",
        "model = lstm_model(num_alphabets=28, embedding_dim=28, name_length=20)\n",
        "    "
      ],
      "metadata": {
        "id": "1JbhcoqfwMzv"
      },
      "execution_count": 8,
      "outputs": []
    },
    {
      "cell_type": "code",
      "source": [
        "#Step 5 : Train the model\n",
        "callbacks = [\n",
        "    EarlyStopping(monitor='val_accuracy',\n",
        "                  min_delta=1e-3,\n",
        "                  patience=5,\n",
        "                  mode='max',\n",
        "                  restore_best_weights=True,\n",
        "                  verbose=1),\n",
        "]\n",
        "\n",
        "history = model.fit(x=X_train,\n",
        "                    y=y_train,\n",
        "                    batch_size=128,\n",
        "                    epochs=200,\n",
        "                    validation_data=(X_test, y_test),\n",
        "                    callbacks=[callbacks])\n",
        "\n",
        "\n",
        "#Step 6: Save the model\n",
        "model.save('gender_prediction.h5')\n"
      ],
      "metadata": {
        "colab": {
          "base_uri": "https://localhost:8080/"
        },
        "id": "IWZ3iOyfvZhV",
        "outputId": "7adccba8-4a4c-4629-9b0d-579e227f71bf"
      },
      "execution_count": 9,
      "outputs": [
        {
          "output_type": "stream",
          "name": "stdout",
          "text": [
            "Epoch 1/200\n",
            "594/594 [==============================] - 52s 71ms/step - loss: 0.4069 - accuracy: 0.8159 - val_loss: 0.3472 - val_accuracy: 0.8493\n",
            "Epoch 2/200\n",
            "594/594 [==============================] - 26s 44ms/step - loss: 0.3401 - accuracy: 0.8554 - val_loss: 0.3145 - val_accuracy: 0.8672\n",
            "Epoch 3/200\n",
            "594/594 [==============================] - 27s 46ms/step - loss: 0.3127 - accuracy: 0.8688 - val_loss: 0.2984 - val_accuracy: 0.8739\n",
            "Epoch 4/200\n",
            "594/594 [==============================] - 27s 45ms/step - loss: 0.2968 - accuracy: 0.8767 - val_loss: 0.2900 - val_accuracy: 0.8791\n",
            "Epoch 5/200\n",
            "594/594 [==============================] - 30s 50ms/step - loss: 0.2843 - accuracy: 0.8822 - val_loss: 0.2779 - val_accuracy: 0.8840\n",
            "Epoch 6/200\n",
            "594/594 [==============================] - 24s 41ms/step - loss: 0.2755 - accuracy: 0.8865 - val_loss: 0.2729 - val_accuracy: 0.8851\n",
            "Epoch 7/200\n",
            "594/594 [==============================] - 31s 51ms/step - loss: 0.2677 - accuracy: 0.8882 - val_loss: 0.2707 - val_accuracy: 0.8868\n",
            "Epoch 8/200\n",
            "594/594 [==============================] - 30s 50ms/step - loss: 0.2616 - accuracy: 0.8923 - val_loss: 0.2707 - val_accuracy: 0.8862\n",
            "Epoch 9/200\n",
            "594/594 [==============================] - 31s 52ms/step - loss: 0.2556 - accuracy: 0.8959 - val_loss: 0.2672 - val_accuracy: 0.8880\n",
            "Epoch 10/200\n",
            "594/594 [==============================] - 28s 48ms/step - loss: 0.2522 - accuracy: 0.8964 - val_loss: 0.2680 - val_accuracy: 0.8902\n",
            "Epoch 11/200\n",
            "594/594 [==============================] - 31s 51ms/step - loss: 0.2474 - accuracy: 0.8993 - val_loss: 0.2637 - val_accuracy: 0.8942\n",
            "Epoch 12/200\n",
            "594/594 [==============================] - 30s 51ms/step - loss: 0.2462 - accuracy: 0.8999 - val_loss: 0.2593 - val_accuracy: 0.8926\n",
            "Epoch 13/200\n",
            "594/594 [==============================] - 35s 60ms/step - loss: 0.2392 - accuracy: 0.9029 - val_loss: 0.2701 - val_accuracy: 0.8882\n",
            "Epoch 14/200\n",
            "594/594 [==============================] - 29s 48ms/step - loss: 0.2409 - accuracy: 0.9018 - val_loss: 0.2617 - val_accuracy: 0.8934\n",
            "Epoch 15/200\n",
            "594/594 [==============================] - 29s 49ms/step - loss: 0.2375 - accuracy: 0.9038 - val_loss: 0.2628 - val_accuracy: 0.8936\n",
            "Epoch 16/200\n",
            "594/594 [==============================] - ETA: 0s - loss: 0.2354 - accuracy: 0.9036Restoring model weights from the end of the best epoch: 11.\n",
            "594/594 [==============================] - 26s 44ms/step - loss: 0.2354 - accuracy: 0.9036 - val_loss: 0.2614 - val_accuracy: 0.8937\n",
            "Epoch 16: early stopping\n"
          ]
        }
      ]
    },
    {
      "cell_type": "code",
      "source": [
        "#Step 7: Visualize the model accuracies\n",
        "\n",
        "plt.plot(history.history['accuracy'], label='train')\n",
        "plt.plot(history.history['val_accuracy'], label='val')\n",
        "plt.xlabel('Epochs')\n",
        "plt.ylabel('Accuracy')\n",
        "plt.legend()"
      ],
      "metadata": {
        "colab": {
          "base_uri": "https://localhost:8080/",
          "height": 296
        },
        "id": "-PHKYKkt5hwa",
        "outputId": "f66fd5ae-cc73-457c-ab47-a013e3308c3b"
      },
      "execution_count": 10,
      "outputs": [
        {
          "output_type": "execute_result",
          "data": {
            "text/plain": [
              "<matplotlib.legend.Legend at 0x7fb2acec2c10>"
            ]
          },
          "metadata": {},
          "execution_count": 10
        },
        {
          "output_type": "display_data",
          "data": {
            "text/plain": [
              "<Figure size 432x288 with 1 Axes>"
            ],
            "image/png": "[encoded data removed]"
          },
          "metadata": {
            "needs_background": "light"
          }
        }
      ]
    },
    {
      "cell_type": "markdown",
      "source": [
        "### Model Evaluation"
      ],
      "metadata": {
        "id": "rUc-_k0PwIae"
      }
    },
    {
      "cell_type": "code",
      "source": [
        "#define a function to evaluate the test data.\n",
        "\n",
        "\"\"\"\n",
        "This function evaluates the model for the test data and shows the result in a datafram.\n",
        "\n",
        "Input Parameter: Model, X_test, y_test\n",
        "\n",
        "Function output: Evaluation Dataframe\n",
        "\n",
        "\"\"\"\n",
        "\n",
        "def evaluate_model(model, X_test, y_test):\n",
        "\n",
        "    eval_dict = model.evaluate(X_test, y_test, return_dict=True)\n",
        "    \n",
        "    display_df = pd.DataFrame([eval_dict.values()], columns=[list(eval_dict.keys())])\n",
        "    \n",
        "    return display_df\n",
        "\n",
        "# Evaluate model on test set and add results to dataframe\n",
        "results = evaluate_model(model, X_test, y_test)\n",
        "\n",
        "# Set index to 'Baseline'\n",
        "results.index = ['Baseline']\n",
        "\n",
        "# Display results\n",
        "results.head()"
      ],
      "metadata": {
        "colab": {
          "base_uri": "https://localhost:8080/",
          "height": 98
        },
        "id": "ARKEF74yw_Xs",
        "outputId": "d712da59-b802-4643-cb67-e6cb46015ac8"
      },
      "execution_count": 11,
      "outputs": [
        {
          "output_type": "stream",
          "name": "stdout",
          "text": [
            "594/594 [==============================] - 13s 22ms/step - loss: 0.2637 - accuracy: 0.8942\n"
          ]
        },
        {
          "output_type": "execute_result",
          "data": {
            "text/plain": [
              "              loss  accuracy\n",
              "Baseline  0.263721  0.894186"
            ],
            "text/html": [
              "\n",
              "  <div id=\"df-827bb5a9-227e-4856-a8a0-0d986d93183c\">\n",
              "    <div class=\"colab-df-container\">\n",
              "      <div>\n",
              "<style scoped>\n",
              "    .dataframe tbody tr th:only-of-type {\n",
              "        vertical-align: middle;\n",
              "    }\n",
              "\n",
              "    .dataframe tbody tr th {\n",
              "        vertical-align: top;\n",
              "    }\n",
              "\n",
              "    .dataframe thead tr th {\n",
              "        text-align: left;\n",
              "    }\n",
              "</style>\n",
              "<table border=\"1\" class=\"dataframe\">\n",
              "  <thead>\n",
              "    <tr>\n",
              "      <th></th>\n",
              "      <th>loss</th>\n",
              "      <th>accuracy</th>\n",
              "    </tr>\n",
              "  </thead>\n",
              "  <tbody>\n",
              "    <tr>\n",
              "      <th>Baseline</th>\n",
              "      <td>0.263721</td>\n",
              "      <td>0.894186</td>\n",
              "    </tr>\n",
              "  </tbody>\n",
              "</table>\n",
              "</div>\n",
              "      <button class=\"colab-df-convert\" onclick=\"convertToInteractive('df-827bb5a9-227e-4856-a8a0-0d986d93183c')\"\n",
              "              title=\"Convert this dataframe to an interactive table.\"\n",
              "              style=\"display:none;\">\n",
              "        \n",
              "  <svg xmlns=\"http://www.w3.org/2000/svg\" height=\"24px\"viewBox=\"0 0 24 24\"\n",
              "       width=\"24px\">\n",
              "    <path d=\"M0 0h24v24H0V0z\" fill=\"none\"/>\n",
              "    <path d=\"M18.56 5.44l.94 2.06.94-2.06 2.06-.94-2.06-.94-.94-2.06-.94 2.06-2.06.94zm-11 1L8.5 8.5l.94-2.06 2.06-.94-2.06-.94L8.5 2.5l-.94 2.06-2.06.94zm10 10l.94 2.06.94-2.06 2.06-.94-2.06-.94-.94-2.06-.94 2.06-2.06.94z\"/><path d=\"M17.41 7.96l-1.37-1.37c-.4-.4-.92-.59-1.43-.59-.52 0-1.04.2-1.43.59L10.3 9.45l-7.72 7.72c-.78.78-.78 2.05 0 2.83L4 21.41c.39.39.9.59 1.41.59.51 0 1.02-.2 1.41-.59l7.78-7.78 2.81-2.81c.8-.78.8-2.07 0-2.86zM5.41 20L4 18.59l7.72-7.72 1.47 1.35L5.41 20z\"/>\n",
              "  </svg>\n",
              "      </button>\n",
              "      \n",
              "  <style>\n",
              "    .colab-df-container {\n",
              "      display:flex;\n",
              "      flex-wrap:wrap;\n",
              "      gap: 12px;\n",
              "    }\n",
              "\n",
              "    .colab-df-convert {\n",
              "      background-color: #E8F0FE;\n",
              "      border: none;\n",
              "      border-radius: 50%;\n",
              "      cursor: pointer;\n",
              "      display: none;\n",
              "      fill: #1967D2;\n",
              "      height: 32px;\n",
              "      padding: 0 0 0 0;\n",
              "      width: 32px;\n",
              "    }\n",
              "\n",
              "    .colab-df-convert:hover {\n",
              "      background-color: #E2EBFA;\n",
              "      box-shadow: 0px 1px 2px rgba(60, 64, 67, 0.3), 0px 1px 3px 1px rgba(60, 64, 67, 0.15);\n",
              "      fill: #174EA6;\n",
              "    }\n",
              "\n",
              "    [theme=dark] .colab-df-convert {\n",
              "      background-color: #3B4455;\n",
              "      fill: #D2E3FC;\n",
              "    }\n",
              "\n",
              "    [theme=dark] .colab-df-convert:hover {\n",
              "      background-color: #434B5C;\n",
              "      box-shadow: 0px 1px 3px 1px rgba(0, 0, 0, 0.15);\n",
              "      filter: drop-shadow(0px 1px 2px rgba(0, 0, 0, 0.3));\n",
              "      fill: #FFFFFF;\n",
              "    }\n",
              "  </style>\n",
              "\n",
              "      <script>\n",
              "        const buttonEl =\n",
              "          document.querySelector('#df-827bb5a9-227e-4856-a8a0-0d986d93183c button.colab-df-convert');\n",
              "        buttonEl.style.display =\n",
              "          google.colab.kernel.accessAllowed ? 'block' : 'none';\n",
              "\n",
              "        async function convertToInteractive(key) {\n",
              "          const element = document.querySelector('#df-827bb5a9-227e-4856-a8a0-0d986d93183c');\n",
              "          const dataTable =\n",
              "            await google.colab.kernel.invokeFunction('convertToInteractive',\n",
              "                                                     [key], {});\n",
              "          if (!dataTable) return;\n",
              "\n",
              "          const docLinkHtml = 'Like what you see? Visit the ' +\n",
              "            '<a target=\"_blank\" href=https://colab.research.google.com/notebooks/data_table.ipynb>data table notebook</a>'\n",
              "            + ' to learn more about interactive tables.';\n",
              "          element.innerHTML = '';\n",
              "          dataTable['output_type'] = 'display_data';\n",
              "          await google.colab.output.renderOutput(dataTable, element);\n",
              "          const docLink = document.createElement('div');\n",
              "          docLink.innerHTML = docLinkHtml;\n",
              "          element.appendChild(docLink);\n",
              "        }\n",
              "      </script>\n",
              "    </div>\n",
              "  </div>\n",
              "  "
            ]
          },
          "metadata": {},
          "execution_count": 11
        }
      ]
    },
    {
      "cell_type": "markdown",
      "source": [
        "### Model Prediction"
      ],
      "metadata": {
        "id": "zH0gkNF8wNUw"
      }
    },
    {
      "cell_type": "code",
      "source": [
        "y_pred = model.predict(X_test)"
      ],
      "metadata": {
        "id": "xmUkVdrBLpQ8"
      },
      "execution_count": 12,
      "outputs": []
    },
    {
      "cell_type": "code",
      "source": [
        "name = ['Mark', 'Rosie', 'Andrew', 'Antony', 'Pooja', 'Xin Yang', 'Fei', 'Albert', 'Chun Hua', 'rita']\n",
        "\n",
        "# Convert to dataframe\n",
        "pred_df = pd.DataFrame({'name': name})\n",
        "\n",
        "# Preprocess the given names\n",
        "name_array = preprocess_name(pred_df)\n",
        "\n",
        "# Prediction\n",
        "predict_x = model.predict(name_array)\n",
        "gender_list = []\n",
        "for i in predict_x:\n",
        "  if i >0.5:\n",
        "    gender_list.append('Male')\n",
        "  else:\n",
        "    gender_list.append('Female')\n",
        "\n",
        "\n",
        "# Format the output\n",
        "pred_df['name'] = name\n",
        "pred_df.rename(columns={'name': 'Name'}, inplace=True)\n",
        "pred_df['Gender'] = gender_list\n",
        "pred_df['Probability'] = predict_x.round(2)\n",
        "pred_df.drop_duplicates(inplace=True)\n",
        "\n",
        "pred_df"
      ],
      "metadata": {
        "colab": {
          "base_uri": "https://localhost:8080/",
          "height": 363
        },
        "id": "3bntuipzitNE",
        "outputId": "a57e2832-8143-4fa8-a23f-d2de44b425f2"
      },
      "execution_count": 13,
      "outputs": [
        {
          "output_type": "execute_result",
          "data": {
            "text/plain": [
              "       Name  Gender  Probability\n",
              "0      Mark    Male         0.83\n",
              "1     Rosie    Male         0.67\n",
              "2    Andrew    Male         0.96\n",
              "3    Antony  Female         0.09\n",
              "4     Pooja  Female         0.02\n",
              "5  Xin Yang    Male         0.83\n",
              "6       Fei    Male         0.83\n",
              "7    Albert    Male         0.95\n",
              "8  Chun Hua  Female         0.04\n",
              "9      rita  Female         0.08"
            ],
            "text/html": [
              "\n",
              "  <div id=\"df-5659df51-d8a1-4e14-ab43-2b3d18602287\">\n",
              "    <div class=\"colab-df-container\">\n",
              "      <div>\n",
              "<style scoped>\n",
              "    .dataframe tbody tr th:only-of-type {\n",
              "        vertical-align: middle;\n",
              "    }\n",
              "\n",
              "    .dataframe tbody tr th {\n",
              "        vertical-align: top;\n",
              "    }\n",
              "\n",
              "    .dataframe thead th {\n",
              "        text-align: right;\n",
              "    }\n",
              "</style>\n",
              "<table border=\"1\" class=\"dataframe\">\n",
              "  <thead>\n",
              "    <tr style=\"text-align: right;\">\n",
              "      <th></th>\n",
              "      <th>Name</th>\n",
              "      <th>Gender</th>\n",
              "      <th>Probability</th>\n",
              "    </tr>\n",
              "  </thead>\n",
              "  <tbody>\n",
              "    <tr>\n",
              "      <th>0</th>\n",
              "      <td>Mark</td>\n",
              "      <td>Male</td>\n",
              "      <td>0.83</td>\n",
              "    </tr>\n",
              "    <tr>\n",
              "      <th>1</th>\n",
              "      <td>Rosie</td>\n",
              "      <td>Male</td>\n",
              "      <td>0.67</td>\n",
              "    </tr>\n",
              "    <tr>\n",
              "      <th>2</th>\n",
              "      <td>Andrew</td>\n",
              "      <td>Male</td>\n",
              "      <td>0.96</td>\n",
              "    </tr>\n",
              "    <tr>\n",
              "      <th>3</th>\n",
              "      <td>Antony</td>\n",
              "      <td>Female</td>\n",
              "      <td>0.09</td>\n",
              "    </tr>\n",
              "    <tr>\n",
              "      <th>4</th>\n",
              "      <td>Pooja</td>\n",
              "      <td>Female</td>\n",
              "      <td>0.02</td>\n",
              "    </tr>\n",
              "    <tr>\n",
              "      <th>5</th>\n",
              "      <td>Xin Yang</td>\n",
              "      <td>Male</td>\n",
              "      <td>0.83</td>\n",
              "    </tr>\n",
              "    <tr>\n",
              "      <th>6</th>\n",
              "      <td>Fei</td>\n",
              "      <td>Male</td>\n",
              "      <td>0.83</td>\n",
              "    </tr>\n",
              "    <tr>\n",
              "      <th>7</th>\n",
              "      <td>Albert</td>\n",
              "      <td>Male</td>\n",
              "      <td>0.95</td>\n",
              "    </tr>\n",
              "    <tr>\n",
              "      <th>8</th>\n",
              "      <td>Chun Hua</td>\n",
              "      <td>Female</td>\n",
              "      <td>0.04</td>\n",
              "    </tr>\n",
              "    <tr>\n",
              "      <th>9</th>\n",
              "      <td>rita</td>\n",
              "      <td>Female</td>\n",
              "      <td>0.08</td>\n",
              "    </tr>\n",
              "  </tbody>\n",
              "</table>\n",
              "</div>\n",
              "      <button class=\"colab-df-convert\" onclick=\"convertToInteractive('df-5659df51-d8a1-4e14-ab43-2b3d18602287')\"\n",
              "              title=\"Convert this dataframe to an interactive table.\"\n",
              "              style=\"display:none;\">\n",
              "        \n",
              "  <svg xmlns=\"http://www.w3.org/2000/svg\" height=\"24px\"viewBox=\"0 0 24 24\"\n",
              "       width=\"24px\">\n",
              "    <path d=\"M0 0h24v24H0V0z\" fill=\"none\"/>\n",
              "    <path d=\"M18.56 5.44l.94 2.06.94-2.06 2.06-.94-2.06-.94-.94-2.06-.94 2.06-2.06.94zm-11 1L8.5 8.5l.94-2.06 2.06-.94-2.06-.94L8.5 2.5l-.94 2.06-2.06.94zm10 10l.94 2.06.94-2.06 2.06-.94-2.06-.94-.94-2.06-.94 2.06-2.06.94z\"/><path d=\"M17.41 7.96l-1.37-1.37c-.4-.4-.92-.59-1.43-.59-.52 0-1.04.2-1.43.59L10.3 9.45l-7.72 7.72c-.78.78-.78 2.05 0 2.83L4 21.41c.39.39.9.59 1.41.59.51 0 1.02-.2 1.41-.59l7.78-7.78 2.81-2.81c.8-.78.8-2.07 0-2.86zM5.41 20L4 18.59l7.72-7.72 1.47 1.35L5.41 20z\"/>\n",
              "  </svg>\n",
              "      </button>\n",
              "      \n",
              "  <style>\n",
              "    .colab-df-container {\n",
              "      display:flex;\n",
              "      flex-wrap:wrap;\n",
              "      gap: 12px;\n",
              "    }\n",
              "\n",
              "    .colab-df-convert {\n",
              "      background-color: #E8F0FE;\n",
              "      border: none;\n",
              "      border-radius: 50%;\n",
              "      cursor: pointer;\n",
              "      display: none;\n",
              "      fill: #1967D2;\n",
              "      height: 32px;\n",
              "      padding: 0 0 0 0;\n",
              "      width: 32px;\n",
              "    }\n",
              "\n",
              "    .colab-df-convert:hover {\n",
              "      background-color: #E2EBFA;\n",
              "      box-shadow: 0px 1px 2px rgba(60, 64, 67, 0.3), 0px 1px 3px 1px rgba(60, 64, 67, 0.15);\n",
              "      fill: #174EA6;\n",
              "    }\n",
              "\n",
              "    [theme=dark] .colab-df-convert {\n",
              "      background-color: #3B4455;\n",
              "      fill: #D2E3FC;\n",
              "    }\n",
              "\n",
              "    [theme=dark] .colab-df-convert:hover {\n",
              "      background-color: #434B5C;\n",
              "      box-shadow: 0px 1px 3px 1px rgba(0, 0, 0, 0.15);\n",
              "      filter: drop-shadow(0px 1px 2px rgba(0, 0, 0, 0.3));\n",
              "      fill: #FFFFFF;\n",
              "    }\n",
              "  </style>\n",
              "\n",
              "      <script>\n",
              "        const buttonEl =\n",
              "          document.querySelector('#df-5659df51-d8a1-4e14-ab43-2b3d18602287 button.colab-df-convert');\n",
              "        buttonEl.style.display =\n",
              "          google.colab.kernel.accessAllowed ? 'block' : 'none';\n",
              "\n",
              "        async function convertToInteractive(key) {\n",
              "          const element = document.querySelector('#df-5659df51-d8a1-4e14-ab43-2b3d18602287');\n",
              "          const dataTable =\n",
              "            await google.colab.kernel.invokeFunction('convertToInteractive',\n",
              "                                                     [key], {});\n",
              "          if (!dataTable) return;\n",
              "\n",
              "          const docLinkHtml = 'Like what you see? Visit the ' +\n",
              "            '<a target=\"_blank\" href=https://colab.research.google.com/notebooks/data_table.ipynb>data table notebook</a>'\n",
              "            + ' to learn more about interactive tables.';\n",
              "          element.innerHTML = '';\n",
              "          dataTable['output_type'] = 'display_data';\n",
              "          await google.colab.output.renderOutput(dataTable, element);\n",
              "          const docLink = document.createElement('div');\n",
              "          docLink.innerHTML = docLinkHtml;\n",
              "          element.appendChild(docLink);\n",
              "        }\n",
              "      </script>\n",
              "    </div>\n",
              "  </div>\n",
              "  "
            ]
          },
          "metadata": {},
          "execution_count": 13
        }
      ]
    },
    {
      "cell_type": "code",
      "source": [
        ""
      ],
      "metadata": {
        "id": "_0oCBmtJVean"
      },
      "execution_count": null,
      "outputs": []
    }
  ]
}