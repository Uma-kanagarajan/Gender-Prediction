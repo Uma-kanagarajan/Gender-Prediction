{
  "nbformat": 4,
  "nbformat_minor": 0,
  "metadata": {
    "colab": {
      "name": "name_gender_prediction_keras_tuner.ipynb",
      "provenance": [],
      "collapsed_sections": [],
      "include_colab_link": true
    },
    "kernelspec": {
      "name": "python3",
      "display_name": "Python 3"
    },
    "language_info": {
      "name": "python"
    },
    "accelerator": "GPU"
  },
  "cells": [
    {
      "cell_type": "markdown",
      "metadata": {
        "id": "view-in-github",
        "colab_type": "text"
      },
      "source": [
        "<a href=\"https://colab.research.google.com/github/Uma-kanagarajan/Gender-Prediction/blob/main/name_gender_prediction_keras_tuner.ipynb\" target=\"_parent\"><img src=\"https://colab.research.google.com/assets/colab-badge.svg\" alt=\"Open In Colab\"/></a>"
      ]
    },
    {
      "cell_type": "markdown",
      "source": [
        "### Import necessary libraries"
      ],
      "metadata": {
        "id": "JvKlUJrOuA7d"
      }
    },
    {
      "cell_type": "code",
      "source": [
        "pip install keras-tuner --upgrade"
      ],
      "metadata": {
        "colab": {
          "base_uri": "https://localhost:8080/"
        },
        "id": "_yyPetXNXT0v",
        "outputId": "68422c0d-bb28-4131-f622-979cf40efa72"
      },
      "execution_count": null,
      "outputs": [
        {
          "output_type": "stream",
          "name": "stdout",
          "text": [
            "Collecting keras-tuner\n",
            "  Downloading keras_tuner-1.1.0-py3-none-any.whl (98 kB)\n",
            "\u001b[?25l\r\u001b[K     |███▍                            | 10 kB 16.1 MB/s eta 0:00:01\r\u001b[K     |██████▊                         | 20 kB 9.1 MB/s eta 0:00:01\r\u001b[K     |██████████                      | 30 kB 7.8 MB/s eta 0:00:01\r\u001b[K     |█████████████▍                  | 40 kB 4.6 MB/s eta 0:00:01\r\u001b[K     |████████████████▊               | 51 kB 4.3 MB/s eta 0:00:01\r\u001b[K     |████████████████████            | 61 kB 5.1 MB/s eta 0:00:01\r\u001b[K     |███████████████████████▍        | 71 kB 5.3 MB/s eta 0:00:01\r\u001b[K     |██████████████████████████▊     | 81 kB 5.2 MB/s eta 0:00:01\r\u001b[K     |██████████████████████████████  | 92 kB 5.7 MB/s eta 0:00:01\r\u001b[K     |████████████████████████████████| 98 kB 3.5 MB/s \n",
            "\u001b[?25hRequirement already satisfied: tensorboard in /usr/local/lib/python3.7/dist-packages (from keras-tuner) (2.8.0)\n",
            "Requirement already satisfied: packaging in /usr/local/lib/python3.7/dist-packages (from keras-tuner) (21.3)\n",
            "Requirement already satisfied: ipython in /usr/local/lib/python3.7/dist-packages (from keras-tuner) (5.5.0)\n",
            "Requirement already satisfied: scipy in /usr/local/lib/python3.7/dist-packages (from keras-tuner) (1.4.1)\n",
            "Requirement already satisfied: requests in /usr/local/lib/python3.7/dist-packages (from keras-tuner) (2.23.0)\n",
            "Collecting kt-legacy\n",
            "  Downloading kt_legacy-1.0.4-py3-none-any.whl (9.6 kB)\n",
            "Requirement already satisfied: numpy in /usr/local/lib/python3.7/dist-packages (from keras-tuner) (1.21.5)\n",
            "Requirement already satisfied: traitlets>=4.2 in /usr/local/lib/python3.7/dist-packages (from ipython->keras-tuner) (5.1.1)\n",
            "Requirement already satisfied: decorator in /usr/local/lib/python3.7/dist-packages (from ipython->keras-tuner) (4.4.2)\n",
            "Requirement already satisfied: pygments in /usr/local/lib/python3.7/dist-packages (from ipython->keras-tuner) (2.6.1)\n",
            "Requirement already satisfied: pickleshare in /usr/local/lib/python3.7/dist-packages (from ipython->keras-tuner) (0.7.5)\n",
            "Requirement already satisfied: prompt-toolkit<2.0.0,>=1.0.4 in /usr/local/lib/python3.7/dist-packages (from ipython->keras-tuner) (1.0.18)\n",
            "Requirement already satisfied: setuptools>=18.5 in /usr/local/lib/python3.7/dist-packages (from ipython->keras-tuner) (57.4.0)\n",
            "Requirement already satisfied: pexpect in /usr/local/lib/python3.7/dist-packages (from ipython->keras-tuner) (4.8.0)\n",
            "Requirement already satisfied: simplegeneric>0.8 in /usr/local/lib/python3.7/dist-packages (from ipython->keras-tuner) (0.8.1)\n",
            "Requirement already satisfied: wcwidth in /usr/local/lib/python3.7/dist-packages (from prompt-toolkit<2.0.0,>=1.0.4->ipython->keras-tuner) (0.2.5)\n",
            "Requirement already satisfied: six>=1.9.0 in /usr/local/lib/python3.7/dist-packages (from prompt-toolkit<2.0.0,>=1.0.4->ipython->keras-tuner) (1.15.0)\n",
            "Requirement already satisfied: pyparsing!=3.0.5,>=2.0.2 in /usr/local/lib/python3.7/dist-packages (from packaging->keras-tuner) (3.0.7)\n",
            "Requirement already satisfied: ptyprocess>=0.5 in /usr/local/lib/python3.7/dist-packages (from pexpect->ipython->keras-tuner) (0.7.0)\n",
            "Requirement already satisfied: certifi>=2017.4.17 in /usr/local/lib/python3.7/dist-packages (from requests->keras-tuner) (2021.10.8)\n",
            "Requirement already satisfied: urllib3!=1.25.0,!=1.25.1,<1.26,>=1.21.1 in /usr/local/lib/python3.7/dist-packages (from requests->keras-tuner) (1.24.3)\n",
            "Requirement already satisfied: idna<3,>=2.5 in /usr/local/lib/python3.7/dist-packages (from requests->keras-tuner) (2.10)\n",
            "Requirement already satisfied: chardet<4,>=3.0.2 in /usr/local/lib/python3.7/dist-packages (from requests->keras-tuner) (3.0.4)\n",
            "Requirement already satisfied: markdown>=2.6.8 in /usr/local/lib/python3.7/dist-packages (from tensorboard->keras-tuner) (3.3.6)\n",
            "Requirement already satisfied: google-auth<3,>=1.6.3 in /usr/local/lib/python3.7/dist-packages (from tensorboard->keras-tuner) (1.35.0)\n",
            "Requirement already satisfied: tensorboard-plugin-wit>=1.6.0 in /usr/local/lib/python3.7/dist-packages (from tensorboard->keras-tuner) (1.8.1)\n",
            "Requirement already satisfied: google-auth-oauthlib<0.5,>=0.4.1 in /usr/local/lib/python3.7/dist-packages (from tensorboard->keras-tuner) (0.4.6)\n",
            "Requirement already satisfied: wheel>=0.26 in /usr/local/lib/python3.7/dist-packages (from tensorboard->keras-tuner) (0.37.1)\n",
            "Requirement already satisfied: protobuf>=3.6.0 in /usr/local/lib/python3.7/dist-packages (from tensorboard->keras-tuner) (3.17.3)\n",
            "Requirement already satisfied: grpcio>=1.24.3 in /usr/local/lib/python3.7/dist-packages (from tensorboard->keras-tuner) (1.44.0)\n",
            "Requirement already satisfied: absl-py>=0.4 in /usr/local/lib/python3.7/dist-packages (from tensorboard->keras-tuner) (1.0.0)\n",
            "Requirement already satisfied: tensorboard-data-server<0.7.0,>=0.6.0 in /usr/local/lib/python3.7/dist-packages (from tensorboard->keras-tuner) (0.6.1)\n",
            "Requirement already satisfied: werkzeug>=0.11.15 in /usr/local/lib/python3.7/dist-packages (from tensorboard->keras-tuner) (1.0.1)\n",
            "Requirement already satisfied: pyasn1-modules>=0.2.1 in /usr/local/lib/python3.7/dist-packages (from google-auth<3,>=1.6.3->tensorboard->keras-tuner) (0.2.8)\n",
            "Requirement already satisfied: cachetools<5.0,>=2.0.0 in /usr/local/lib/python3.7/dist-packages (from google-auth<3,>=1.6.3->tensorboard->keras-tuner) (4.2.4)\n",
            "Requirement already satisfied: rsa<5,>=3.1.4 in /usr/local/lib/python3.7/dist-packages (from google-auth<3,>=1.6.3->tensorboard->keras-tuner) (4.8)\n",
            "Requirement already satisfied: requests-oauthlib>=0.7.0 in /usr/local/lib/python3.7/dist-packages (from google-auth-oauthlib<0.5,>=0.4.1->tensorboard->keras-tuner) (1.3.1)\n",
            "Requirement already satisfied: importlib-metadata>=4.4 in /usr/local/lib/python3.7/dist-packages (from markdown>=2.6.8->tensorboard->keras-tuner) (4.11.2)\n",
            "Requirement already satisfied: typing-extensions>=3.6.4 in /usr/local/lib/python3.7/dist-packages (from importlib-metadata>=4.4->markdown>=2.6.8->tensorboard->keras-tuner) (3.10.0.2)\n",
            "Requirement already satisfied: zipp>=0.5 in /usr/local/lib/python3.7/dist-packages (from importlib-metadata>=4.4->markdown>=2.6.8->tensorboard->keras-tuner) (3.7.0)\n",
            "Requirement already satisfied: pyasn1<0.5.0,>=0.4.6 in /usr/local/lib/python3.7/dist-packages (from pyasn1-modules>=0.2.1->google-auth<3,>=1.6.3->tensorboard->keras-tuner) (0.4.8)\n",
            "Requirement already satisfied: oauthlib>=3.0.0 in /usr/local/lib/python3.7/dist-packages (from requests-oauthlib>=0.7.0->google-auth-oauthlib<0.5,>=0.4.1->tensorboard->keras-tuner) (3.2.0)\n",
            "Installing collected packages: kt-legacy, keras-tuner\n",
            "Successfully installed keras-tuner-1.1.0 kt-legacy-1.0.4\n"
          ]
        }
      ]
    },
    {
      "cell_type": "code",
      "execution_count": 2,
      "metadata": {
        "id": "WDzXtvhmtAyH"
      },
      "outputs": [],
      "source": [
        "#import all the necessary libraries\n",
        "\n",
        "import os\n",
        "\n",
        "import numpy as np \n",
        "import pandas as pd \n",
        "import matplotlib.pyplot as plt\n",
        "\n",
        "import tensorflow as tf\n",
        "import keras\n",
        "#import keras_tuner as kt\n",
        "\n",
        "from tensorflow.keras.preprocessing.text import Tokenizer\n",
        "from tensorflow.keras.preprocessing.sequence import pad_sequences\n",
        "from tensorflow.keras.models import Sequential\n",
        "from tensorflow.keras.layers import Dense, Embedding, LSTM, Dropout, Bidirectional\n",
        "from tensorflow.keras.optimizers import Adam\n",
        "from tensorflow.keras.callbacks import EarlyStopping\n",
        "\n",
        "from sklearn import preprocessing\n",
        "from sklearn.model_selection import train_test_split\n",
        "\n",
        "import warnings\n",
        "warnings.filterwarnings(\"ignore\")\n"
      ]
    },
    {
      "cell_type": "markdown",
      "source": [
        "### Load the dataset"
      ],
      "metadata": {
        "id": "G67v0qOPuHcp"
      }
    },
    {
      "cell_type": "code",
      "source": [
        "# load and preview the data\n",
        "\n",
        "names_df = pd.read_csv('name_gender.csv')\n",
        "names_df.head()"
      ],
      "metadata": {
        "colab": {
          "base_uri": "https://localhost:8080/",
          "height": 206
        },
        "id": "66jLQBgNtMBF",
        "outputId": "ea4b58ec-93e4-4058-a9b4-c69dacac8a2d"
      },
      "execution_count": 6,
      "outputs": [
        {
          "output_type": "execute_result",
          "data": {
            "text/plain": [
              "        name gender\n",
              "0    Aaban&&      M\n",
              "1     Aabha*      F\n",
              "2      Aabid      M\n",
              "3  Aabriella      F\n",
              "4      Aada_      F"
            ],
            "text/html": [
              "\n",
              "  <div id=\"df-f42431fa-7f6d-40c7-81e3-bfc9b9212831\">\n",
              "    <div class=\"colab-df-container\">\n",
              "      <div>\n",
              "<style scoped>\n",
              "    .dataframe tbody tr th:only-of-type {\n",
              "        vertical-align: middle;\n",
              "    }\n",
              "\n",
              "    .dataframe tbody tr th {\n",
              "        vertical-align: top;\n",
              "    }\n",
              "\n",
              "    .dataframe thead th {\n",
              "        text-align: right;\n",
              "    }\n",
              "</style>\n",
              "<table border=\"1\" class=\"dataframe\">\n",
              "  <thead>\n",
              "    <tr style=\"text-align: right;\">\n",
              "      <th></th>\n",
              "      <th>name</th>\n",
              "      <th>gender</th>\n",
              "    </tr>\n",
              "  </thead>\n",
              "  <tbody>\n",
              "    <tr>\n",
              "      <th>0</th>\n",
              "      <td>Aaban&amp;&amp;</td>\n",
              "      <td>M</td>\n",
              "    </tr>\n",
              "    <tr>\n",
              "      <th>1</th>\n",
              "      <td>Aabha*</td>\n",
              "      <td>F</td>\n",
              "    </tr>\n",
              "    <tr>\n",
              "      <th>2</th>\n",
              "      <td>Aabid</td>\n",
              "      <td>M</td>\n",
              "    </tr>\n",
              "    <tr>\n",
              "      <th>3</th>\n",
              "      <td>Aabriella</td>\n",
              "      <td>F</td>\n",
              "    </tr>\n",
              "    <tr>\n",
              "      <th>4</th>\n",
              "      <td>Aada_</td>\n",
              "      <td>F</td>\n",
              "    </tr>\n",
              "  </tbody>\n",
              "</table>\n",
              "</div>\n",
              "      <button class=\"colab-df-convert\" onclick=\"convertToInteractive('df-f42431fa-7f6d-40c7-81e3-bfc9b9212831')\"\n",
              "              title=\"Convert this dataframe to an interactive table.\"\n",
              "              style=\"display:none;\">\n",
              "        \n",
              "  <svg xmlns=\"http://www.w3.org/2000/svg\" height=\"24px\"viewBox=\"0 0 24 24\"\n",
              "       width=\"24px\">\n",
              "    <path d=\"M0 0h24v24H0V0z\" fill=\"none\"/>\n",
              "    <path d=\"M18.56 5.44l.94 2.06.94-2.06 2.06-.94-2.06-.94-.94-2.06-.94 2.06-2.06.94zm-11 1L8.5 8.5l.94-2.06 2.06-.94-2.06-.94L8.5 2.5l-.94 2.06-2.06.94zm10 10l.94 2.06.94-2.06 2.06-.94-2.06-.94-.94-2.06-.94 2.06-2.06.94z\"/><path d=\"M17.41 7.96l-1.37-1.37c-.4-.4-.92-.59-1.43-.59-.52 0-1.04.2-1.43.59L10.3 9.45l-7.72 7.72c-.78.78-.78 2.05 0 2.83L4 21.41c.39.39.9.59 1.41.59.51 0 1.02-.2 1.41-.59l7.78-7.78 2.81-2.81c.8-.78.8-2.07 0-2.86zM5.41 20L4 18.59l7.72-7.72 1.47 1.35L5.41 20z\"/>\n",
              "  </svg>\n",
              "      </button>\n",
              "      \n",
              "  <style>\n",
              "    .colab-df-container {\n",
              "      display:flex;\n",
              "      flex-wrap:wrap;\n",
              "      gap: 12px;\n",
              "    }\n",
              "\n",
              "    .colab-df-convert {\n",
              "      background-color: #E8F0FE;\n",
              "      border: none;\n",
              "      border-radius: 50%;\n",
              "      cursor: pointer;\n",
              "      display: none;\n",
              "      fill: #1967D2;\n",
              "      height: 32px;\n",
              "      padding: 0 0 0 0;\n",
              "      width: 32px;\n",
              "    }\n",
              "\n",
              "    .colab-df-convert:hover {\n",
              "      background-color: #E2EBFA;\n",
              "      box-shadow: 0px 1px 2px rgba(60, 64, 67, 0.3), 0px 1px 3px 1px rgba(60, 64, 67, 0.15);\n",
              "      fill: #174EA6;\n",
              "    }\n",
              "\n",
              "    [theme=dark] .colab-df-convert {\n",
              "      background-color: #3B4455;\n",
              "      fill: #D2E3FC;\n",
              "    }\n",
              "\n",
              "    [theme=dark] .colab-df-convert:hover {\n",
              "      background-color: #434B5C;\n",
              "      box-shadow: 0px 1px 3px 1px rgba(0, 0, 0, 0.15);\n",
              "      filter: drop-shadow(0px 1px 2px rgba(0, 0, 0, 0.3));\n",
              "      fill: #FFFFFF;\n",
              "    }\n",
              "  </style>\n",
              "\n",
              "      <script>\n",
              "        const buttonEl =\n",
              "          document.querySelector('#df-f42431fa-7f6d-40c7-81e3-bfc9b9212831 button.colab-df-convert');\n",
              "        buttonEl.style.display =\n",
              "          google.colab.kernel.accessAllowed ? 'block' : 'none';\n",
              "\n",
              "        async function convertToInteractive(key) {\n",
              "          const element = document.querySelector('#df-f42431fa-7f6d-40c7-81e3-bfc9b9212831');\n",
              "          const dataTable =\n",
              "            await google.colab.kernel.invokeFunction('convertToInteractive',\n",
              "                                                     [key], {});\n",
              "          if (!dataTable) return;\n",
              "\n",
              "          const docLinkHtml = 'Like what you see? Visit the ' +\n",
              "            '<a target=\"_blank\" href=https://colab.research.google.com/notebooks/data_table.ipynb>data table notebook</a>'\n",
              "            + ' to learn more about interactive tables.';\n",
              "          element.innerHTML = '';\n",
              "          dataTable['output_type'] = 'display_data';\n",
              "          await google.colab.output.renderOutput(dataTable, element);\n",
              "          const docLink = document.createElement('div');\n",
              "          docLink.innerHTML = docLinkHtml;\n",
              "          element.appendChild(docLink);\n",
              "        }\n",
              "      </script>\n",
              "    </div>\n",
              "  </div>\n",
              "  "
            ]
          },
          "metadata": {},
          "execution_count": 6
        }
      ]
    },
    {
      "cell_type": "code",
      "source": [
        "print(\"The Shape of the dataset: \", names_df.shape)\n",
        "print(\"The Columns of the dataset are \", names_df.columns)\n",
        "print(\"Any missing values in the dataset \", names_df.isnull().sum())\n",
        "print(\"Unique value counts for the gender variable :\", names_df['gender'].value_counts())"
      ],
      "metadata": {
        "colab": {
          "base_uri": "https://localhost:8080/"
        },
        "id": "8Rf9KH5UteDw",
        "outputId": "88d05814-8480-4567-e088-5d5ce9be85db"
      },
      "execution_count": 7,
      "outputs": [
        {
          "output_type": "stream",
          "name": "stdout",
          "text": [
            "The Shape of the dataset:  (95025, 2)\n",
            "The Columns of the dataset are  Index(['name', 'gender'], dtype='object')\n",
            "Any missing values in the dataset  name      0\n",
            "gender    0\n",
            "dtype: int64\n",
            "Unique value counts for the gender variable : F    60304\n",
            "M    34721\n",
            "Name: gender, dtype: int64\n"
          ]
        }
      ]
    },
    {
      "cell_type": "markdown",
      "source": [
        "### Preprocess the dataset"
      ],
      "metadata": {
        "id": "K_GcanehuPPS"
      }
    },
    {
      "cell_type": "code",
      "source": [
        "#define a function to preprocess the data.\n",
        "\n",
        "''' \n",
        "This function takes names as input and converts it into an array using below steps.\n",
        "1. Removes non-alphabetical characters and spaces from the given input name.\n",
        "2. Then tokenize each characters of the name into a vector and converts it into an integer\n",
        "3. Given name length gets changed to a fixed length of 20 with the help of post padded sequence\n",
        "\n",
        "Input Parameter: name(string/list of strings)\n",
        "\n",
        "Function output: name array\n",
        "\n",
        "'''\n",
        "\n",
        "def preprocess_name(names_df):\n",
        "  names_df['name'] = names_df['name'].str.replace('[^a-zA-Z]', '') #remove unncessary characters\n",
        "  names = names_df['name'].values \n",
        "  tokenizer = Tokenizer(num_words=None, oov_token=oov_tok, char_level=True) # Character splitting in tokenizer\n",
        "  tokenizer.fit_on_texts(names)   #Train the corpus\n",
        "  sequences = tokenizer.texts_to_sequences(names)  #convert character to integer\n",
        "  name_length = 20\n",
        "  input_sequences = pad_sequences(sequences, maxlen=name_length, padding='post')  #padding\n",
        "  #input_array = np.asarray(input_sequences) \n",
        "\n",
        "  return input_sequences"
      ],
      "metadata": {
        "id": "w-v5CWE6udk6"
      },
      "execution_count": 8,
      "outputs": []
    },
    {
      "cell_type": "markdown",
      "source": [
        "### Model definition"
      ],
      "metadata": {
        "id": "aFZgj7FMusdg"
      }
    },
    {
      "cell_type": "code",
      "source": [
        "# function for model definition\n",
        "\n",
        "''' \n",
        "\n",
        "This function defines a model with sequential API with the layers such as\n",
        "Embedding, LSTM, Dropout, Dense and a final dense output layer.\n",
        "Optimizer: Adam\n",
        "Loss: Binary crossentropy.\n",
        "\n",
        "Input Parameter: Input dimension, output dimension and input length for embedding layer\n",
        "\n",
        "Function output: Model\n",
        "\n",
        "'''\n",
        "\n",
        "def lstm_model(num_alphabets, embedding_dim, name_length):\n",
        "    model = Sequential([\n",
        "        Embedding(num_alphabets, embedding_dim, input_length=name_length),\n",
        "        #Bidirectional(LSTM(units=32, recurrent_dropout=0.2, dropout=0.2)),\n",
        "        Bidirectional(LSTM(units=32)),\n",
        "        Dropout(0.2),\n",
        "        Dense(units=32, activation='relu'),\n",
        "        Dense(1, activation=\"sigmoid\")\n",
        "    ])\n",
        "\n",
        "    model.compile(loss='binary_crossentropy',\n",
        "                  optimizer=Adam(learning_rate=0.01),\n",
        "                  metrics=['accuracy'])\n",
        "\n",
        "    return model"
      ],
      "metadata": {
        "id": "TPQ__v7WKamx"
      },
      "execution_count": 9,
      "outputs": []
    },
    {
      "cell_type": "markdown",
      "source": [
        "### Model Building"
      ],
      "metadata": {
        "id": "Oqh3x82Qu60d"
      }
    },
    {
      "cell_type": "code",
      "source": [
        "oov_tok = \"<OOV>\"\n",
        "\n",
        "#Step 1: Preprocess the input features(names)\n",
        "X = preprocess_name(names_df)\n",
        "\n",
        "# Step 2: Get labels\n",
        "#Label Encoder\n",
        "le = preprocessing.LabelEncoder()\n",
        "names_df['gender'] = le.fit_transform(names_df['gender'])\n",
        "y = np.asarray(names_df['gender'].values.tolist())\n",
        "\n",
        "\n",
        "# Step 3: Split Training and Test Data\n",
        "X_train, X_test, y_train, y_test = train_test_split(X,\n",
        "                                                    y,\n",
        "                                                    test_size=0.2,\n",
        "                                                    random_state=0)\n",
        "\n",
        "# Step 4: Instantiate the model\n",
        "model = lstm_model(num_alphabets=28, embedding_dim=28, name_length=20)"
      ],
      "metadata": {
        "id": "1JbhcoqfwMzv"
      },
      "execution_count": 10,
      "outputs": []
    },
    {
      "cell_type": "code",
      "source": [
        "#Step 5 : Train the model\n",
        "callbacks = [\n",
        "    EarlyStopping(monitor='val_accuracy',\n",
        "                  min_delta=1e-3,\n",
        "                  patience=5,\n",
        "                  mode='max',\n",
        "                  restore_best_weights=True,\n",
        "                  verbose=1),\n",
        "]\n",
        "\n",
        "history = model.fit(x=X_train,\n",
        "                    y=y_train,\n",
        "                    batch_size=128,\n",
        "                    epochs=200,\n",
        "                    validation_data=(X_test, y_test),\n",
        "                    callbacks=[callbacks])\n",
        "\n",
        "\n",
        "# Step 6: Save the model\n",
        "model.save('gender_prediction.h5')\n"
      ],
      "metadata": {
        "colab": {
          "base_uri": "https://localhost:8080/"
        },
        "id": "IWZ3iOyfvZhV",
        "outputId": "979d540c-dfb9-4738-99ff-137df707db41"
      },
      "execution_count": 11,
      "outputs": [
        {
          "output_type": "stream",
          "name": "stdout",
          "text": [
            "Epoch 1/200\n",
            "594/594 [==============================] - 19s 17ms/step - loss: 0.4027 - accuracy: 0.8194 - val_loss: 0.3495 - val_accuracy: 0.8498\n",
            "Epoch 2/200\n",
            "594/594 [==============================] - 9s 15ms/step - loss: 0.3380 - accuracy: 0.8568 - val_loss: 0.3298 - val_accuracy: 0.8602\n",
            "Epoch 3/200\n",
            "594/594 [==============================] - 9s 15ms/step - loss: 0.3124 - accuracy: 0.8683 - val_loss: 0.2949 - val_accuracy: 0.8739\n",
            "Epoch 4/200\n",
            "594/594 [==============================] - 9s 16ms/step - loss: 0.2927 - accuracy: 0.8771 - val_loss: 0.2865 - val_accuracy: 0.8779\n",
            "Epoch 5/200\n",
            "594/594 [==============================] - 9s 16ms/step - loss: 0.2835 - accuracy: 0.8822 - val_loss: 0.2786 - val_accuracy: 0.8850\n",
            "Epoch 6/200\n",
            "594/594 [==============================] - 9s 16ms/step - loss: 0.2754 - accuracy: 0.8859 - val_loss: 0.2783 - val_accuracy: 0.8843\n",
            "Epoch 7/200\n",
            "594/594 [==============================] - 9s 15ms/step - loss: 0.2701 - accuracy: 0.8881 - val_loss: 0.2713 - val_accuracy: 0.8870\n",
            "Epoch 8/200\n",
            "594/594 [==============================] - 9s 16ms/step - loss: 0.2653 - accuracy: 0.8895 - val_loss: 0.2663 - val_accuracy: 0.8901\n",
            "Epoch 9/200\n",
            "594/594 [==============================] - 12s 20ms/step - loss: 0.2615 - accuracy: 0.8923 - val_loss: 0.2680 - val_accuracy: 0.8895\n",
            "Epoch 10/200\n",
            "594/594 [==============================] - 12s 20ms/step - loss: 0.2582 - accuracy: 0.8939 - val_loss: 0.2708 - val_accuracy: 0.8885\n",
            "Epoch 11/200\n",
            "594/594 [==============================] - 9s 16ms/step - loss: 0.2576 - accuracy: 0.8931 - val_loss: 0.2705 - val_accuracy: 0.8896\n",
            "Epoch 12/200\n",
            "594/594 [==============================] - 9s 15ms/step - loss: 0.2537 - accuracy: 0.8952 - val_loss: 0.2676 - val_accuracy: 0.8889\n",
            "Epoch 13/200\n",
            "594/594 [==============================] - 9s 15ms/step - loss: 0.2504 - accuracy: 0.8973 - val_loss: 0.2687 - val_accuracy: 0.8917\n",
            "Epoch 14/200\n",
            "594/594 [==============================] - 9s 15ms/step - loss: 0.2554 - accuracy: 0.8951 - val_loss: 0.2719 - val_accuracy: 0.8880\n",
            "Epoch 15/200\n",
            "594/594 [==============================] - 9s 16ms/step - loss: 0.2483 - accuracy: 0.8968 - val_loss: 0.2708 - val_accuracy: 0.8899\n",
            "Epoch 16/200\n",
            "594/594 [==============================] - 9s 16ms/step - loss: 0.2479 - accuracy: 0.8985 - val_loss: 0.2705 - val_accuracy: 0.8890\n",
            "Epoch 17/200\n",
            "594/594 [==============================] - 9s 15ms/step - loss: 0.2468 - accuracy: 0.8982 - val_loss: 0.2663 - val_accuracy: 0.8908\n",
            "Epoch 18/200\n",
            "592/594 [============================>.] - ETA: 0s - loss: 0.2466 - accuracy: 0.8986Restoring model weights from the end of the best epoch: 13.\n",
            "594/594 [==============================] - 9s 15ms/step - loss: 0.2465 - accuracy: 0.8986 - val_loss: 0.2682 - val_accuracy: 0.8873\n",
            "Epoch 18: early stopping\n"
          ]
        }
      ]
    },
    {
      "cell_type": "code",
      "source": [
        "#Step 7: Visualize the model accuracies\n",
        "\n",
        "plt.plot(history.history['accuracy'], label='train')\n",
        "plt.plot(history.history['val_accuracy'], label='val')\n",
        "plt.xlabel('Epochs')\n",
        "plt.ylabel('Accuracy')\n",
        "plt.legend()"
      ],
      "metadata": {
        "id": "BHs4w5Je8nWu",
        "colab": {
          "base_uri": "https://localhost:8080/",
          "height": 296
        },
        "outputId": "00228008-2030-419c-dfbf-81e48219a39b"
      },
      "execution_count": 12,
      "outputs": [
        {
          "output_type": "execute_result",
          "data": {
            "text/plain": [
              "<matplotlib.legend.Legend at 0x7fc14385dfd0>"
            ]
          },
          "metadata": {},
          "execution_count": 12
        },
        {
          "output_type": "display_data",
          "data": {
            "text/plain": [
              "<Figure size 432x288 with 1 Axes>"
            ],
            "image/png": "[encoded data removed]"
          },
          "metadata": {
            "needs_background": "light"
          }
        }
      ]
    },
    {
      "cell_type": "markdown",
      "source": [
        "### Model Evaluation"
      ],
      "metadata": {
        "id": "BRYDNkUxvp8R"
      }
    },
    {
      "cell_type": "code",
      "source": [
        "model.evaluate(X_train, y_train)"
      ],
      "metadata": {
        "colab": {
          "base_uri": "https://localhost:8080/"
        },
        "id": "CL7fd-wqPdF7",
        "outputId": "17765474-cdec-468c-dc5a-fee8916fd74d"
      },
      "execution_count": 14,
      "outputs": [
        {
          "output_type": "stream",
          "name": "stdout",
          "text": [
            "2376/2376 [==============================] - 14s 6ms/step - loss: 0.2308 - accuracy: 0.9052\n"
          ]
        },
        {
          "output_type": "execute_result",
          "data": {
            "text/plain": [
              "[0.23082274198532104, 0.9052486419677734]"
            ]
          },
          "metadata": {},
          "execution_count": 14
        }
      ]
    },
    {
      "cell_type": "code",
      "source": [
        "#function for model evaluation\n",
        "\n",
        "\"\"\"\n",
        "This function evaluates the model for the test data and shows the result in a datafram.\n",
        "\n",
        "Input Parameter: Model, X_test, y_test\n",
        "\n",
        "Function output: Evaluation Dataframe\n",
        "\n",
        "\"\"\"\n",
        "\n",
        "def evaluate_model(model, X_test, y_test):\n",
        "  \n",
        "    eval_dict = model.evaluate(X_test, y_test, return_dict=True)\n",
        "    display_df = pd.DataFrame([eval_dict.values()], columns=[list(eval_dict.keys())])\n",
        "    return display_df\n",
        "\n",
        "# Evaluate model on test set and add results to dataframe\n",
        "results = evaluate_model(model, X_test, y_test)\n",
        "\n",
        "# Set index to 'Baseline'\n",
        "results.index = ['Baseline']\n",
        "\n",
        "# Display results\n",
        "results.head()"
      ],
      "metadata": {
        "colab": {
          "base_uri": "https://localhost:8080/",
          "height": 98
        },
        "id": "ARKEF74yw_Xs",
        "outputId": "514c2438-ee17-4df1-f812-867d7800c04c"
      },
      "execution_count": 13,
      "outputs": [
        {
          "output_type": "stream",
          "name": "stdout",
          "text": [
            "594/594 [==============================] - 4s 6ms/step - loss: 0.2687 - accuracy: 0.8917\n"
          ]
        },
        {
          "output_type": "execute_result",
          "data": {
            "text/plain": [
              "              loss accuracy\n",
              "Baseline  0.268744  0.89166"
            ],
            "text/html": [
              "\n",
              "  <div id=\"df-de28189a-c1e8-4854-9fe0-b40910705e89\">\n",
              "    <div class=\"colab-df-container\">\n",
              "      <div>\n",
              "<style scoped>\n",
              "    .dataframe tbody tr th:only-of-type {\n",
              "        vertical-align: middle;\n",
              "    }\n",
              "\n",
              "    .dataframe tbody tr th {\n",
              "        vertical-align: top;\n",
              "    }\n",
              "\n",
              "    .dataframe thead tr th {\n",
              "        text-align: left;\n",
              "    }\n",
              "</style>\n",
              "<table border=\"1\" class=\"dataframe\">\n",
              "  <thead>\n",
              "    <tr>\n",
              "      <th></th>\n",
              "      <th>loss</th>\n",
              "      <th>accuracy</th>\n",
              "    </tr>\n",
              "  </thead>\n",
              "  <tbody>\n",
              "    <tr>\n",
              "      <th>Baseline</th>\n",
              "      <td>0.268744</td>\n",
              "      <td>0.89166</td>\n",
              "    </tr>\n",
              "  </tbody>\n",
              "</table>\n",
              "</div>\n",
              "      <button class=\"colab-df-convert\" onclick=\"convertToInteractive('df-de28189a-c1e8-4854-9fe0-b40910705e89')\"\n",
              "              title=\"Convert this dataframe to an interactive table.\"\n",
              "              style=\"display:none;\">\n",
              "        \n",
              "  <svg xmlns=\"http://www.w3.org/2000/svg\" height=\"24px\"viewBox=\"0 0 24 24\"\n",
              "       width=\"24px\">\n",
              "    <path d=\"M0 0h24v24H0V0z\" fill=\"none\"/>\n",
              "    <path d=\"M18.56 5.44l.94 2.06.94-2.06 2.06-.94-2.06-.94-.94-2.06-.94 2.06-2.06.94zm-11 1L8.5 8.5l.94-2.06 2.06-.94-2.06-.94L8.5 2.5l-.94 2.06-2.06.94zm10 10l.94 2.06.94-2.06 2.06-.94-2.06-.94-.94-2.06-.94 2.06-2.06.94z\"/><path d=\"M17.41 7.96l-1.37-1.37c-.4-.4-.92-.59-1.43-.59-.52 0-1.04.2-1.43.59L10.3 9.45l-7.72 7.72c-.78.78-.78 2.05 0 2.83L4 21.41c.39.39.9.59 1.41.59.51 0 1.02-.2 1.41-.59l7.78-7.78 2.81-2.81c.8-.78.8-2.07 0-2.86zM5.41 20L4 18.59l7.72-7.72 1.47 1.35L5.41 20z\"/>\n",
              "  </svg>\n",
              "      </button>\n",
              "      \n",
              "  <style>\n",
              "    .colab-df-container {\n",
              "      display:flex;\n",
              "      flex-wrap:wrap;\n",
              "      gap: 12px;\n",
              "    }\n",
              "\n",
              "    .colab-df-convert {\n",
              "      background-color: #E8F0FE;\n",
              "      border: none;\n",
              "      border-radius: 50%;\n",
              "      cursor: pointer;\n",
              "      display: none;\n",
              "      fill: #1967D2;\n",
              "      height: 32px;\n",
              "      padding: 0 0 0 0;\n",
              "      width: 32px;\n",
              "    }\n",
              "\n",
              "    .colab-df-convert:hover {\n",
              "      background-color: #E2EBFA;\n",
              "      box-shadow: 0px 1px 2px rgba(60, 64, 67, 0.3), 0px 1px 3px 1px rgba(60, 64, 67, 0.15);\n",
              "      fill: #174EA6;\n",
              "    }\n",
              "\n",
              "    [theme=dark] .colab-df-convert {\n",
              "      background-color: #3B4455;\n",
              "      fill: #D2E3FC;\n",
              "    }\n",
              "\n",
              "    [theme=dark] .colab-df-convert:hover {\n",
              "      background-color: #434B5C;\n",
              "      box-shadow: 0px 1px 3px 1px rgba(0, 0, 0, 0.15);\n",
              "      filter: drop-shadow(0px 1px 2px rgba(0, 0, 0, 0.3));\n",
              "      fill: #FFFFFF;\n",
              "    }\n",
              "  </style>\n",
              "\n",
              "      <script>\n",
              "        const buttonEl =\n",
              "          document.querySelector('#df-de28189a-c1e8-4854-9fe0-b40910705e89 button.colab-df-convert');\n",
              "        buttonEl.style.display =\n",
              "          google.colab.kernel.accessAllowed ? 'block' : 'none';\n",
              "\n",
              "        async function convertToInteractive(key) {\n",
              "          const element = document.querySelector('#df-de28189a-c1e8-4854-9fe0-b40910705e89');\n",
              "          const dataTable =\n",
              "            await google.colab.kernel.invokeFunction('convertToInteractive',\n",
              "                                                     [key], {});\n",
              "          if (!dataTable) return;\n",
              "\n",
              "          const docLinkHtml = 'Like what you see? Visit the ' +\n",
              "            '<a target=\"_blank\" href=https://colab.research.google.com/notebooks/data_table.ipynb>data table notebook</a>'\n",
              "            + ' to learn more about interactive tables.';\n",
              "          element.innerHTML = '';\n",
              "          dataTable['output_type'] = 'display_data';\n",
              "          await google.colab.output.renderOutput(dataTable, element);\n",
              "          const docLink = document.createElement('div');\n",
              "          docLink.innerHTML = docLinkHtml;\n",
              "          element.appendChild(docLink);\n",
              "        }\n",
              "      </script>\n",
              "    </div>\n",
              "  </div>\n",
              "  "
            ]
          },
          "metadata": {},
          "execution_count": 13
        }
      ]
    },
    {
      "cell_type": "markdown",
      "source": [
        "### Model Prediction"
      ],
      "metadata": {
        "id": "_Y1T-yDewcke"
      }
    },
    {
      "cell_type": "code",
      "source": [
        "y_pred = model.predict(X_test)"
      ],
      "metadata": {
        "id": "TGBiO8bVwg-y"
      },
      "execution_count": null,
      "outputs": []
    },
    {
      "cell_type": "code",
      "source": [
        "name = ['Mark', 'Rosie', 'Andrew', 'Antony', 'Pooja', 'Xin Yang', 'Fei', 'Albert', 'Chun Hua', 'rita']\n",
        "\n",
        "# Convert to dataframe\n",
        "pred_df = pd.DataFrame({'name': name})\n",
        "\n",
        "# Preprocess the given names\n",
        "name_array = preprocess_name(pred_df)\n",
        "\n",
        "# Prediction\n",
        "predict_x = model.predict(name_array)\n",
        "gender_list = []\n",
        "for i in predict_x:\n",
        "  if i >0.5:\n",
        "    gender_list.append('Male')\n",
        "  else:\n",
        "    gender_list.append('Female')\n",
        "\n",
        "\n",
        "# Format the output\n",
        "pred_df['name'] = name\n",
        "pred_df.rename(columns={'name': 'Name'}, inplace=True)\n",
        "pred_df['Gender'] = gender_list\n",
        "pred_df['Probability'] = predict_x.round(2)\n",
        "pred_df.drop_duplicates(inplace=True)\n",
        "\n",
        "pred_df"
      ],
      "metadata": {
        "id": "eALaYlblwkRd"
      },
      "execution_count": null,
      "outputs": []
    },
    {
      "cell_type": "markdown",
      "source": [
        "### Keras Tuner\n",
        "\n",
        "Build a hypermodel"
      ],
      "metadata": {
        "id": "CSHs5LUvOU_O"
      }
    },
    {
      "cell_type": "code",
      "source": [
        "\"\"\"\n",
        "Builds model and sets up hyperparameter space to search.\n",
        "\n",
        "Input Parameter: HyperParameter object\n",
        "\n",
        "Function output: Model\n",
        "\n",
        "\"\"\"\n",
        "def build_model(hp):\n",
        "  \n",
        "  #Initialize value for embedding layer\n",
        "  num_alphabets=28\n",
        "  name_length=20\n",
        "\n",
        "  # Initialize sequential API and start building model.\n",
        "  model = keras.Sequential()\n",
        "  \n",
        "  # Tune Embedding layer with values between 16 to 32 with a stepsize of 8.\n",
        "  model.add(Embedding(num_alphabets,\n",
        "                      output_dim=hp.Int(\"output_dim\", min_value=16, max_value=32, step=8),\n",
        "                      input_length = name_length)\n",
        "  )\n",
        "\n",
        "  # Tune LSTM layer with values between 16 to 64 with a stepsize of 16.\n",
        "  model.add(Bidirectional(LSTM(units=hp.Int(\"LSTM_units\", min_value=16, max_value=64, step=16))))\n",
        "\n",
        "  # Tune Dropout layer with values betwen 0.1 to 0.3 with a stepsize of 0.1.\n",
        "  model.add(Dropout(hp.Float('Dropout_rate',min_value=0.1,max_value=0.3,step=0.1)))\n",
        "\n",
        "  # Tune Dense layer with values between 16 to 40 with a stepsize of 8.\n",
        "  model.add(Dense(units=hp.Int(\"units_\", min_value=16, max_value=40, step=8),activation=\"relu\"))\n",
        "  \n",
        "  # Add output layer.\n",
        "  model.add(Dense(units=1, activation=\"sigmoid\"))\n",
        "  \n",
        "  # Tune learning rate for Adam optimizer with values among 0.1, 0.01, or 0.001\n",
        "  hp_learning_rate = hp.Choice(\"learning_rate\", values=[1e-1, 1e-2, 1e-3])\n",
        "\n",
        "  # Define optimizer, loss, and metrics\n",
        "  model.compile(optimizer=tf.keras.optimizers.Adam(learning_rate=hp_learning_rate),\n",
        "                loss='binary_crossentropy',\n",
        "                metrics=[\"accuracy\"])\n",
        "  \n",
        "  return model\n"
      ],
      "metadata": {
        "id": "Cxwc7ZO0Lzqk"
      },
      "execution_count": null,
      "outputs": []
    },
    {
      "cell_type": "code",
      "source": [
        "\n",
        "# Instantiate the tuner\n",
        "tuner = kt.Hyperband(build_model,\n",
        "                     objective=\"val_accuracy\",\n",
        "                     max_epochs=20,\n",
        "                     factor=3,\n",
        "                     hyperband_iterations=10,\n",
        "                     directory=\"kt_dir\",\n",
        "                     project_name=\"kt_hyperband\",\n",
        "                     overwrite=True)"
      ],
      "metadata": {
        "id": "_Ct6EZ0fWDCv"
      },
      "execution_count": null,
      "outputs": []
    },
    {
      "cell_type": "code",
      "source": [
        "# Display search space summary\n",
        "tuner.search_space_summary()"
      ],
      "metadata": {
        "colab": {
          "base_uri": "https://localhost:8080/"
        },
        "id": "ANXCLWYSWwVW",
        "outputId": "3efb90ad-30ef-4fcf-d264-15adf0d9ba94"
      },
      "execution_count": null,
      "outputs": [
        {
          "output_type": "stream",
          "name": "stdout",
          "text": [
            "Search space summary\n",
            "Default search space size: 5\n",
            "output_dim (Int)\n",
            "{'default': None, 'conditions': [], 'min_value': 16, 'max_value': 32, 'step': 8, 'sampling': None}\n",
            "LSTM_units (Int)\n",
            "{'default': None, 'conditions': [], 'min_value': 16, 'max_value': 64, 'step': 16, 'sampling': None}\n",
            "Dropout_rate (Float)\n",
            "{'default': 0.1, 'conditions': [], 'min_value': 0.1, 'max_value': 0.3, 'step': 0.1, 'sampling': None}\n",
            "units_ (Int)\n",
            "{'default': None, 'conditions': [], 'min_value': 16, 'max_value': 40, 'step': 8, 'sampling': None}\n",
            "learning_rate (Choice)\n",
            "{'default': 0.1, 'conditions': [], 'values': [0.1, 0.01, 0.001], 'ordered': True}\n"
          ]
        }
      ]
    },
    {
      "cell_type": "code",
      "source": [
        "callbacks = [\n",
        "    EarlyStopping(monitor='val_accuracy',\n",
        "                  min_delta=1e-3,\n",
        "                  patience=5,\n",
        "                  mode='max',\n",
        "                  restore_best_weights=True,\n",
        "                  verbose=1),\n",
        "]\n",
        "\n",
        "tuner.search(X_train, y_train, epochs=20, validation_data=(X_test, y_test), callbacks=[callbacks], verbose=2, batch_size=128)\n"
      ],
      "metadata": {
        "colab": {
          "base_uri": "https://localhost:8080/"
        },
        "id": "LACrXLBoYXS6",
        "outputId": "521f6c83-dfac-458f-b02a-e07211910cf2"
      },
      "execution_count": null,
      "outputs": [
        {
          "output_type": "stream",
          "name": "stdout",
          "text": [
            "Trial 300 Complete [00h 01m 05s]\n",
            "val_accuracy: 0.82420414686203\n",
            "\n",
            "Best val_accuracy So Far: 0.9012365341186523\n",
            "Total elapsed time: 06h 05m 55s\n",
            "INFO:tensorflow:Oracle triggered exit\n"
          ]
        }
      ]
    },
    {
      "cell_type": "code",
      "source": [
        "\n",
        "# Get the optimal hyperparameters from the results\n",
        "best_hps=tuner.get_best_hyperparameters()[0]\n",
        "\n",
        "# Build model\n",
        "h_model = tuner.hypermodel.build(best_hps)\n",
        "\n",
        "callbacks = [\n",
        "    EarlyStopping(monitor='val_accuracy',\n",
        "                  min_delta=1e-3,\n",
        "                  patience=5,\n",
        "                  mode='max',\n",
        "                  restore_best_weights=True,\n",
        "                  verbose=1),\n",
        "]\n",
        "\n",
        "# Train the hypertuned model\n",
        "h_model.fit(X_train, y_train, epochs=30, validation_data=(X_test, y_test), callbacks=[callbacks], verbose=2, batch_size=128)\n"
      ],
      "metadata": {
        "id": "iP_lrKEfY9QQ"
      },
      "execution_count": null,
      "outputs": []
    },
    {
      "cell_type": "code",
      "source": [
        "\n",
        "# Evaluate model on test set\n",
        "hyper_df = evaluate_model(h_model, X_test, y_test)\n",
        "\n",
        "# Set index to hypertuned\n",
        "hyper_df.index = [\"Hypertuned\"]\n",
        "\n",
        "# Append results in dataframe\n",
        "results.append(hyper_df)"
      ],
      "metadata": {
        "id": "JdgV4OK48y-l"
      },
      "execution_count": null,
      "outputs": []
    },
    {
      "cell_type": "code",
      "source": [
        ""
      ],
      "metadata": {
        "id": "lcbDdprd9DJz"
      },
      "execution_count": null,
      "outputs": []
    }
  ]
}